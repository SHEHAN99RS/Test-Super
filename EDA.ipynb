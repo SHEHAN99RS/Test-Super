{
  "cells": [
    {
      "cell_type": "code",
      "execution_count": null,
      "id": "ffa0e445",
      "metadata": {
        "vscode": {
          "languageId": "plaintext"
        },
        "id": "ffa0e445"
      },
      "outputs": [],
      "source": [
        "# Example Notebook"
      ]
    },
    {
      "cell_type": "code",
      "execution_count": null,
      "id": "3095a4cb",
      "metadata": {
        "vscode": {
          "languageId": "plaintext"
        },
        "id": "3095a4cb"
      },
      "outputs": [],
      "source": [
        "import pandas\n",
        "import numpy"
      ]
    },
    {
      "cell_type": "code",
      "source": [
        "data=pd.read_csv('data.csv')"
      ],
      "metadata": {
        "id": "LrlzyQPiNjoH"
      },
      "id": "LrlzyQPiNjoH",
      "execution_count": null,
      "outputs": []
    }
  ],
  "metadata": {
    "language_info": {
      "name": "python"
    },
    "colab": {
      "provenance": []
    }
  },
  "nbformat": 4,
  "nbformat_minor": 5
}